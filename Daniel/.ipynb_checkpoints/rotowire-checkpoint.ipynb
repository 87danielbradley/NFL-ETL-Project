{
 "cells": [
  {
   "cell_type": "code",
   "execution_count": 1,
   "metadata": {},
   "outputs": [],
   "source": [
    "# Dependencies\n",
    "from bs4 import *\n",
    "import requests\n",
    "import re\n",
    "import pandas as pd"
   ]
  },
  {
   "cell_type": "code",
   "execution_count": 3,
   "metadata": {},
   "outputs": [],
   "source": [
    "# URL of page to be scraped\n",
    "url = 'https://www.rotowire.com/football/player.php?id=5000'"
   ]
  },
  {
   "cell_type": "code",
   "execution_count": 4,
   "metadata": {},
   "outputs": [],
   "source": [
    "# Retrieve page with the requests module\n",
    "response = requests.get(url)"
   ]
  },
  {
   "cell_type": "code",
   "execution_count": 5,
   "metadata": {},
   "outputs": [],
   "source": [
    "# Create BeautifulSoup object; parse with 'html.parser'\n",
    "soup = BeautifulSoup(response.text, 'html.parser')"
   ]
  },
  {
   "cell_type": "code",
   "execution_count": 63,
   "metadata": {},
   "outputs": [
    {
     "name": "stdout",
     "output_type": "stream",
     "text": [
      "6' 7\"\n",
      "80%\n",
      "310 lbs\n",
      "37%\n",
      "4.94 sec\n",
      "92%\n",
      "4.49 sec\n",
      "92%\n",
      "7.47 sec\n",
      "83%\n",
      "29.0 in\n",
      "65%\n",
      "108 in\n",
      "70%\n",
      "22 reps\n",
      "30%\n"
     ]
    }
   ],
   "source": [
    "name_list =[]\n",
    "birthday_list=[]\n",
    "college_list=[]\n",
    "\n",
    "height_list=[]\n",
    "weight_list=[]\n",
    "forty_list = []\n",
    "shuttle_list = []\n",
    "cone_list = []\n",
    "vertical_list=[]\n",
    "broad_list=[]\n",
    "bench_list=[]\n",
    "hand_list=[]\n",
    "arm_list=[]\n",
    "\n",
    "height_list_p=[]\n",
    "weight_list_p=[]\n",
    "forty_list_p = []\n",
    "shuttle_list_p = []\n",
    "cone_list_p = []\n",
    "vertical_list_p=[]\n",
    "broad_list_p=[]\n",
    "bench_list_p=[]\n",
    "hand_list_p=[]\n",
    "arm_list_p=[]\n",
    "\n",
    "for i in range(1,5):\n",
    "#for i in range(1,20000):\n",
    "    try:\n",
    "        name = soup.find(\"div\", class_=\"p-card__player-name\").text\n",
    "        name_list.append(name)\n",
    "    except:\n",
    "        name_list.append(\"NaN\")\n",
    "    try:\n",
    "        birthday=soup.find_all(\"div\", class_=\"p-card__meta-data-item\")[2].text\n",
    "        birthday_list.append(birthday)\n",
    "    except:\n",
    "        birthday_list.append(\"NaN\")\n",
    "    try:\n",
    "        college=soup.find_all(\"div\", class_=\"p-card__meta-data-item\")[3].text\n",
    "        college_list.append(college)\n",
    "    except:\n",
    "        college_list.append(\"NaN\")\n",
    "        \n",
    "    try:\n",
    "        height = soup.find(\"div\", text=\"Height\").find_parent(\"div\").b.text\n",
    "        height_percentile = soup.find(\"div\", text=\"Height\").find_parent(\"div\").find_parent(\"div\").findChildren(\"div\", class_=\"meter__value\")[0].get(\"style\").split(\":\")[1].split(\";\")[0]\n",
    "        height_list.append(height)\n",
    "        height_list_p.append(height_percentile)\n",
    "    except:\n",
    "        height_list.append(\"NaN\")\n",
    "        height_list_p.append(\"NaN\")\n",
    "        \n",
    "    try:\n",
    "        weight = soup.find(\"div\", text=\"Weight\").find_parent(\"div\").b.text\n",
    "        weight_percentile = soup.find(\"div\", text=\"Weight\").find_parent(\"div\").find_parent(\"div\").findChildren(\"div\", class_=\"meter__value\")[0].get(\"style\").split(\":\")[1].split(\";\")[0]\n",
    "        weight_list.append(weight)\n",
    "        weight_list_p.append(weight_percentile)\n",
    "    except:\n",
    "        weight_list.append(\"NaN\")\n",
    "        weight_list_p.append(\"NaN\")\n",
    "        \n",
    "    try:\n",
    "        forty = soup.find(\"div\", text=\"40-Yard Dash\").find_parent(\"div\").b.text\n",
    "        forty_percentile = soup.find(\"div\", text=\"40-Yard Dash\").find_parent(\"div\").find_parent(\"div\").findChildren(\"div\", class_=\"meter__value\")[0].get(\"style\").split(\":\")[1].split(\";\")[0]\n",
    "        forty_list.append(forty)\n",
    "        forty_list_p.append(forty_percentile)\n",
    "    except:\n",
    "        forty_list.append(\"NaN\")\n",
    "        forty_list_p.append(\"NaN\")\n",
    "        \n",
    "    try:\n",
    "        shuttle = soup.find(\"div\", text=\"Shuttle Time\").find_parent(\"div\").b.text\n",
    "        shuttle_percentile = soup.find(\"div\", text=\"Shuttle Time\").find_parent(\"div\").find_parent(\"div\").findChildren(\"div\", class_=\"meter__value\")[0].get(\"style\").split(\":\")[1].split(\";\")[0]\n",
    "        shuttle_list.append(shuttle)\n",
    "        shuttle_list_p.append(shuttle_percentile)\n",
    "    except:\n",
    "        shuttle_list.append(\"NaN\")\n",
    "        shuttle_list_p.append(\"NaN\")\n",
    "        \n",
    "    try:\n",
    "        cone = soup.find(\"div\", text=\"Cone Drill\").find_parent(\"div\").b.text\n",
    "        cone_percentile = soup.find(\"div\", text=\"Cone Drill\").find_parent(\"div\").find_parent(\"div\").findChildren(\"div\", class_=\"meter__value\")[0].get(\"style\").split(\":\")[1].split(\";\")[0]\n",
    "        cone_list.append(cone)\n",
    "        cone_list_p.append(cone_percentile)\n",
    "    except:\n",
    "        cone_list.append(\"NaN\")\n",
    "        cone_list_p.append(\"NaN\")\n",
    "    \n",
    "    try:\n",
    "        vertical = soup.find(\"div\", text=\"Vertical Jump\").find_parent(\"div\").b.text\n",
    "        vertical_percentile = soup.find(\"div\", text=\"Vertical Jump\").find_parent(\"div\").find_parent(\"div\").findChildren(\"div\", class_=\"meter__value\")[0].get(\"style\").split(\":\")[1].split(\";\")[0]\n",
    "        vertical_list.append(vertical)\n",
    "        vertical_list_p.append(vertical_percentile)\n",
    "    except:\n",
    "        vertical_list.append(\"NaN\")\n",
    "        vertical_list_p.append(\"NaN\")\n",
    "    \n",
    "    try:\n",
    "        broad = soup.find(\"div\", text=\"Broad Jump\").find_parent(\"div\").b.text\n",
    "        broad_percentile = soup.find(\"div\", text=\"Broad Jump\").find_parent(\"div\").find_parent(\"div\").findChildren(\"div\", class_=\"meter__value\")[0].get(\"style\").split(\":\")[1].split(\";\")[0]\n",
    "        broad_list.append(broad)\n",
    "        broad_list_p.append(broad_percentile)\n",
    "    except:\n",
    "        broad_list.append(\"NaN\")\n",
    "        broad_list_p.append(\"NaN\")\n",
    "        \n",
    "    try:\n",
    "        bench = soup.find(\"div\", text=\"Bench Press*\").find_parent(\"div\").b.text\n",
    "        bench_percentile = soup.find(\"div\", text=\"Bench Press*\").find_parent(\"div\").find_parent(\"div\").findChildren(\"div\", class_=\"meter__value\")[0].get(\"style\").split(\":\")[1].split(\";\")[0]\n",
    "        bench_list.append(bench)\n",
    "        bench_list_p.append(bench_percentile)\n",
    "    except:\n",
    "        bench_list.append(\"NaN\")\n",
    "        bench_list_p.append(\"NaN\")\n",
    "        \n",
    "    try:\n",
    "        hand = soup.find(\"div\", text=\"Hand Length\").find_parent(\"div\").b.text\n",
    "        hand_percentile = soup.find(\"div\", text=\"Hand Length\").find_parent(\"div\").find_parent(\"div\").findChildren(\"div\", class_=\"meter__value\")[0].get(\"style\").split(\":\")[1].split(\";\")[0]\n",
    "        hand_list.append(hand)\n",
    "        hand_list_p.append(hand_percentile)\n",
    "    except:\n",
    "        hand_list.append(\"NaN\")\n",
    "        hand_list_p.append(\"NaN\")\n",
    "        \n",
    "    try:\n",
    "        arm = soup.find(\"div\", text=\"Arm Length\").find_parent(\"div\").b.text\n",
    "        arm_percentile = soup.find(\"div\", text=\"Arm Length\").find_parent(\"div\").find_parent(\"div\").findChildren(\"div\", class_=\"meter__value\")[0].get(\"style\").split(\":\")[1].split(\";\")[0]\n",
    "        arm_list.append(arm)\n",
    "        arm_list_p.append(arm_percentile)\n",
    "    except:\n",
    "        arm_list.append(\"NaN\")\n",
    "        arm_list_p.append(\"NaN\")\n",
    "        "
   ]
  },
  {
   "cell_type": "code",
   "execution_count": 57,
   "metadata": {},
   "outputs": [
    {
     "data": {
      "text/plain": [
       "'width:80%;'"
      ]
     },
     "execution_count": 57,
     "metadata": {},
     "output_type": "execute_result"
    }
   ],
   "source": [
    "height = soup.find(\"div\", text=\"Height\")\n",
    "height.find_parent(\"div\").find_parent(\"div\").findChildren(\"div\", class_=\"meter__value\")[0].get(\"style\")"
   ]
  },
  {
   "cell_type": "code",
   "execution_count": 61,
   "metadata": {
    "scrolled": true
   },
   "outputs": [
    {
     "name": "stdout",
     "output_type": "stream",
     "text": [
      "6' 7\"\n",
      "80%\n"
     ]
    }
   ],
   "source": [
    "height = soup.find(\"div\", text=\"Height\").find_parent(\"div\").b.text\n",
    "children = soup.find(\"div\", text=\"Height\").find_parent(\"div\").find_parent(\"div\").findChildren(\"div\", class_=\"meter__value\")[0].get(\"style\").split(\":\")[1].split(\";\")[0]\n",
    "print(height)\n",
    "print(children)\n"
   ]
  },
  {
   "cell_type": "code",
   "execution_count": 70,
   "metadata": {},
   "outputs": [
    {
     "data": {
      "text/plain": [
       "'DOB 11/17/1983'"
      ]
     },
     "execution_count": 70,
     "metadata": {},
     "output_type": "execute_result"
    }
   ],
   "source": []
  },
  {
   "cell_type": "code",
   "execution_count": null,
   "metadata": {},
   "outputs": [],
   "source": []
  }
 ],
 "metadata": {
  "kernelspec": {
   "display_name": "Python 3.7.1 64-bit ('chand': virtualenv)",
   "language": "python",
   "name": "python37164bitchandvirtualenv9dc6a78812824289974a0a4aa2dbb22b"
  },
  "language_info": {
   "codemirror_mode": {
    "name": "ipython",
    "version": 3
   },
   "file_extension": ".py",
   "mimetype": "text/x-python",
   "name": "python",
   "nbconvert_exporter": "python",
   "pygments_lexer": "ipython3",
   "version": "3.7.1"
  }
 },
 "nbformat": 4,
 "nbformat_minor": 2
}
