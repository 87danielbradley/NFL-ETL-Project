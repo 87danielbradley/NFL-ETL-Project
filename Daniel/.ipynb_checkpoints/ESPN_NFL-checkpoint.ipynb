{
 "cells": [
  {
   "cell_type": "code",
   "execution_count": 1,
   "metadata": {},
   "outputs": [],
   "source": [
    "# Dependencies\n",
    "from bs4 import *\n",
    "import requests\n",
    "import re\n",
    "import pandas as pd"
   ]
  },
  {
   "cell_type": "code",
   "execution_count": 2,
   "metadata": {},
   "outputs": [],
   "source": [
    "# URL of page to be scraped\n",
    "url = 'https://www.espn.com/nfl/teams'"
   ]
  },
  {
   "cell_type": "code",
   "execution_count": 3,
   "metadata": {},
   "outputs": [],
   "source": [
    "# Retrieve page with the requests module\n",
    "response = requests.get(url)"
   ]
  },
  {
   "cell_type": "code",
   "execution_count": 4,
   "metadata": {},
   "outputs": [],
   "source": [
    "# Create BeautifulSoup object; parse with 'html.parser'\n",
    "soup = BeautifulSoup(response.text, 'html.parser')"
   ]
  },
  {
   "cell_type": "code",
   "execution_count": 5,
   "metadata": {},
   "outputs": [],
   "source": [
    "#collecting team names and links\n",
    "team_name = []\n",
    "for team in soup.find_all('h2',class_=\"di clr-gray-01 h5\"):\n",
    "    team_name.append(team.text)\n",
    "stat_links = soup.find_all('a', href=re.compile(\"stats/_/name\"))\n",
    "schedule_links = soup.find_all('a', href=re.compile(\"schedule/_/name\"))\n",
    "roster_links = soup.find_all('a', href=re.compile(\"roster/_/name\"))\n",
    "depth_links = soup.find_all('a', href=re.compile(\"depth/_/name\"))\n",
    "\n",
    "\n"
   ]
  },
  {
   "cell_type": "code",
   "execution_count": 19,
   "metadata": {},
   "outputs": [],
   "source": [
    "#This section is Organizing the 4 main links for each team\n",
    "# Stats, Schedule, Roster, Depth\n",
    "\n",
    "stat_list=[]\n",
    "schedule_list=[]\n",
    "roster_list=[]\n",
    "depth_list=[]\n",
    "url=\"http://www.espn.com\"\n",
    "\n",
    "for stat in stat_links:\n",
    "    href= stat.get('href')\n",
    "    stat_list.append(url+href)\n",
    "    \n",
    "\n",
    "for schedule in schedule_links:\n",
    "    href= schedule.get('href')\n",
    "    schedule_list.append(url+href)\n",
    "    \n",
    "for roster in roster_links:\n",
    "    href= roster.get('href')\n",
    "    roster_list.append(url+href)\n",
    "\n",
    "for depth in depth_links:\n",
    "    href= depth.get('href')\n",
    "    depth_list.append(url+href)"
   ]
  },
  {
   "cell_type": "code",
   "execution_count": 20,
   "metadata": {},
   "outputs": [],
   "source": [
    "#splitting city and team\n",
    "\n",
    "city_list = []\n",
    "team_list = []\n",
    "\n",
    "for team in team_name:\n",
    "    team_split = team.split(' ')\n",
    "    if len(team_split) ==2:\n",
    "        city_list.append(team_split[0])\n",
    "        team_list.append(team_split[1])\n",
    "    elif len(team_split) ==3:\n",
    "        city_list.append(team_split[0]+\" \"+team_split[1])\n",
    "        team_list.append(team_split[2])\n",
    "    else:\n",
    "        print(team_split)\n",
    "        \n",
    "\n"
   ]
  },
  {
   "cell_type": "code",
   "execution_count": 21,
   "metadata": {},
   "outputs": [
    {
     "data": {
      "text/html": [
       "<div>\n",
       "<style scoped>\n",
       "    .dataframe tbody tr th:only-of-type {\n",
       "        vertical-align: middle;\n",
       "    }\n",
       "\n",
       "    .dataframe tbody tr th {\n",
       "        vertical-align: top;\n",
       "    }\n",
       "\n",
       "    .dataframe thead th {\n",
       "        text-align: right;\n",
       "    }\n",
       "</style>\n",
       "<table border=\"1\" class=\"dataframe\">\n",
       "  <thead>\n",
       "    <tr style=\"text-align: right;\">\n",
       "      <th></th>\n",
       "      <th>Team</th>\n",
       "      <th>City</th>\n",
       "      <th>stat_links</th>\n",
       "      <th>shedule_links</th>\n",
       "      <th>roster_links</th>\n",
       "      <th>depth_links</th>\n",
       "    </tr>\n",
       "  </thead>\n",
       "  <tbody>\n",
       "    <tr>\n",
       "      <th>0</th>\n",
       "      <td>Bills</td>\n",
       "      <td>Buffalo</td>\n",
       "      <td>http://www.espn.com/nfl/team/stats/_/name/buf/...</td>\n",
       "      <td>http://www.espn.com/nfl/team/schedule/_/name/buf</td>\n",
       "      <td>http://www.espn.com/nfl/team/roster/_/name/buf...</td>\n",
       "      <td>http://www.espn.com/nfl/team/depth/_/name/buf</td>\n",
       "    </tr>\n",
       "    <tr>\n",
       "      <th>1</th>\n",
       "      <td>Dolphins</td>\n",
       "      <td>Miami</td>\n",
       "      <td>http://www.espn.com/nfl/team/stats/_/name/mia/...</td>\n",
       "      <td>http://www.espn.com/nfl/team/schedule/_/name/mia</td>\n",
       "      <td>http://www.espn.com/nfl/team/roster/_/name/mia...</td>\n",
       "      <td>http://www.espn.com/nfl/team/depth/_/name/mia</td>\n",
       "    </tr>\n",
       "    <tr>\n",
       "      <th>2</th>\n",
       "      <td>Patriots</td>\n",
       "      <td>New England</td>\n",
       "      <td>http://www.espn.com/nfl/team/stats/_/name/ne/n...</td>\n",
       "      <td>http://www.espn.com/nfl/team/schedule/_/name/ne</td>\n",
       "      <td>http://www.espn.com/nfl/team/roster/_/name/ne/...</td>\n",
       "      <td>http://www.espn.com/nfl/team/depth/_/name/ne</td>\n",
       "    </tr>\n",
       "    <tr>\n",
       "      <th>3</th>\n",
       "      <td>Jets</td>\n",
       "      <td>New York</td>\n",
       "      <td>http://www.espn.com/nfl/team/stats/_/name/nyj/...</td>\n",
       "      <td>http://www.espn.com/nfl/team/schedule/_/name/nyj</td>\n",
       "      <td>http://www.espn.com/nfl/team/roster/_/name/nyj...</td>\n",
       "      <td>http://www.espn.com/nfl/team/depth/_/name/nyj</td>\n",
       "    </tr>\n",
       "    <tr>\n",
       "      <th>4</th>\n",
       "      <td>Ravens</td>\n",
       "      <td>Baltimore</td>\n",
       "      <td>http://www.espn.com/nfl/team/stats/_/name/bal/...</td>\n",
       "      <td>http://www.espn.com/nfl/team/schedule/_/name/bal</td>\n",
       "      <td>http://www.espn.com/nfl/team/roster/_/name/bal...</td>\n",
       "      <td>http://www.espn.com/nfl/team/depth/_/name/bal</td>\n",
       "    </tr>\n",
       "  </tbody>\n",
       "</table>\n",
       "</div>"
      ],
      "text/plain": [
       "       Team         City                                         stat_links  \\\n",
       "0     Bills      Buffalo  http://www.espn.com/nfl/team/stats/_/name/buf/...   \n",
       "1  Dolphins        Miami  http://www.espn.com/nfl/team/stats/_/name/mia/...   \n",
       "2  Patriots  New England  http://www.espn.com/nfl/team/stats/_/name/ne/n...   \n",
       "3      Jets     New York  http://www.espn.com/nfl/team/stats/_/name/nyj/...   \n",
       "4    Ravens    Baltimore  http://www.espn.com/nfl/team/stats/_/name/bal/...   \n",
       "\n",
       "                                      shedule_links  \\\n",
       "0  http://www.espn.com/nfl/team/schedule/_/name/buf   \n",
       "1  http://www.espn.com/nfl/team/schedule/_/name/mia   \n",
       "2   http://www.espn.com/nfl/team/schedule/_/name/ne   \n",
       "3  http://www.espn.com/nfl/team/schedule/_/name/nyj   \n",
       "4  http://www.espn.com/nfl/team/schedule/_/name/bal   \n",
       "\n",
       "                                        roster_links  \\\n",
       "0  http://www.espn.com/nfl/team/roster/_/name/buf...   \n",
       "1  http://www.espn.com/nfl/team/roster/_/name/mia...   \n",
       "2  http://www.espn.com/nfl/team/roster/_/name/ne/...   \n",
       "3  http://www.espn.com/nfl/team/roster/_/name/nyj...   \n",
       "4  http://www.espn.com/nfl/team/roster/_/name/bal...   \n",
       "\n",
       "                                     depth_links  \n",
       "0  http://www.espn.com/nfl/team/depth/_/name/buf  \n",
       "1  http://www.espn.com/nfl/team/depth/_/name/mia  \n",
       "2   http://www.espn.com/nfl/team/depth/_/name/ne  \n",
       "3  http://www.espn.com/nfl/team/depth/_/name/nyj  \n",
       "4  http://www.espn.com/nfl/team/depth/_/name/bal  "
      ]
     },
     "execution_count": 21,
     "metadata": {},
     "output_type": "execute_result"
    }
   ],
   "source": [
    "#converting lists into DataFrame\n",
    "myDict = {\"Team\":team_list,\n",
    "          \"City\":city_list,\n",
    "          \"stat_links\":stat_list,\n",
    "          \"shedule_links\":schedule_list,\n",
    "          \"roster_links\":roster_list,\n",
    "          \"depth_links\":depth_list}\n",
    "df = pd.DataFrame(myDict)\n",
    "df.head()"
   ]
  },
  {
   "cell_type": "code",
   "execution_count": 22,
   "metadata": {},
   "outputs": [],
   "source": [
    "df.to_csv(\"team_links.csv\")"
   ]
  },
  {
   "cell_type": "code",
   "execution_count": null,
   "metadata": {},
   "outputs": [],
   "source": []
  },
  {
   "cell_type": "markdown",
   "metadata": {},
   "source": [
    "###  Example links for reference\n",
    "\n",
    "https://www.espn.com/nfl/teams\n",
    "https://www.espn.com/nfl/team/stats/_/name/buf/buffalo-bills\n",
    "https://www.espn.com/nfl/team/schedule/_/name/buf\n",
    "https://www.espn.com/nfl/team/roster/_/name/buf/buffalo-bills\n",
    "https://www.espn.com/nfl/team/depth/_/name/buf"
   ]
  },
  {
   "cell_type": "code",
   "execution_count": null,
   "metadata": {},
   "outputs": [],
   "source": []
  },
  {
   "cell_type": "code",
   "execution_count": 38,
   "metadata": {
    "scrolled": true
   },
   "outputs": [
    {
     "data": {
      "text/plain": [
       "'QB'"
      ]
     },
     "execution_count": 38,
     "metadata": {},
     "output_type": "execute_result"
    }
   ],
   "source": [
    "table[0].Name[0].split(' ')[-1]"
   ]
  }
 ],
 "metadata": {
  "kernelspec": {
   "display_name": "Python 3.7.1 64-bit ('chand': virtualenv)",
   "language": "python",
   "name": "python37164bitchandvirtualenv9dc6a78812824289974a0a4aa2dbb22b"
  },
  "language_info": {
   "codemirror_mode": {
    "name": "ipython",
    "version": 3
   },
   "file_extension": ".py",
   "mimetype": "text/x-python",
   "name": "python",
   "nbconvert_exporter": "python",
   "pygments_lexer": "ipython3",
   "version": "3.7.1"
  }
 },
 "nbformat": 4,
 "nbformat_minor": 2
}
