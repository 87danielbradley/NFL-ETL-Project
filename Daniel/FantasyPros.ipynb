{
 "cells": [
  {
   "cell_type": "code",
   "execution_count": 1,
   "metadata": {},
   "outputs": [],
   "source": [
    "# Dependencies\n",
    "from bs4 import *\n",
    "import requests\n",
    "import re\n",
    "import pandas as pd"
   ]
  },
  {
   "cell_type": "code",
   "execution_count": 2,
   "metadata": {},
   "outputs": [],
   "source": [
    "# URL of page to be scraped\n",
    "positions=['qb','rb','wr','te','dst','dl','lb','db']\n",
    "year_list=[2013,2014,2015,2016,2017,2018,2019]\n"
   ]
  },
  {
   "cell_type": "code",
   "execution_count": 3,
   "metadata": {},
   "outputs": [],
   "source": [
    "qb=pd.DataFrame({})\n",
    "rb=pd.DataFrame({})\n",
    "wr=pd.DataFrame({})\n",
    "te=pd.DataFrame({})\n",
    "dst=pd.DataFrame({})\n",
    "dl=pd.DataFrame({})\n",
    "lb=pd.DataFrame({})\n",
    "db=pd.DataFrame({})\n",
    "\n",
    "for year in year_list:\n",
    "    for position in positions:\n",
    "        url = f'https://www.fantasypros.com/nfl/stats/{position}.php?year={year}'\n",
    "        table=pd.read_html(url)\n",
    "        table[0]['Year']=year\n",
    "        try:\n",
    "            tableT=table[0].T.reset_index().set_index('level_1').drop(columns=['level_0']).T\n",
    "        except:\n",
    "            tableT=table[0].T.reset_index().set_index('index').T\n",
    "        \n",
    "        if position =='qb':\n",
    "            qb=pd.concat([qb,tableT])\n",
    "        if position =='rb':\n",
    "            rb=pd.concat([rb,tableT])\n",
    "        if position =='wr':\n",
    "            wr=pd.concat([wr,tableT])\n",
    "        if position =='te':\n",
    "            te=pd.concat([te,tableT])\n",
    "        if position =='dst':\n",
    "            dst=pd.concat([dst,tableT])\n",
    "        if position =='dl':\n",
    "            dl=pd.concat([dl,tableT])\n",
    "        if position =='lb':\n",
    "            lb=pd.concat([lb,tableT])\n",
    "        if position =='db':\n",
    "            db=pd.concat([db,tableT])\n",
    "       "
   ]
  },
  {
   "cell_type": "code",
   "execution_count": 4,
   "metadata": {},
   "outputs": [],
   "source": [
    "qb.reset_index(drop=True)\n",
    "rb.reset_index(drop=True)\n",
    "wr.reset_index(drop=True)\n",
    "te.reset_index(drop=True)\n",
    "dst.reset_index(drop=True)\n",
    "dl.reset_index(drop=True)\n",
    "lb.reset_index(drop=True)\n",
    "db.reset_index(drop=True)\n",
    "\n",
    "qb.to_csv(\"fantasy/qb.csv\")\n",
    "rb.to_csv(\"fantasy/rb.csv\")\n",
    "wr.to_csv(\"fantasy/wr.csv\")\n",
    "te.to_csv(\"fantasy/te.csv\")\n",
    "dst.to_csv(\"fantasy/dst.csv\")\n",
    "dl.to_csv(\"fantasy/dl.csv\")\n",
    "lb.to_csv(\"fantasy/lb.csv\")\n",
    "db.to_csv(\"fantasy/db.csv\")"
   ]
  },
  {
   "cell_type": "code",
   "execution_count": null,
   "metadata": {},
   "outputs": [],
   "source": []
  }
 ],
 "metadata": {
  "kernelspec": {
   "display_name": "Python 3.7.1 64-bit ('chand': virtualenv)",
   "language": "python",
   "name": "python37164bitchandvirtualenv9dc6a78812824289974a0a4aa2dbb22b"
  },
  "language_info": {
   "codemirror_mode": {
    "name": "ipython",
    "version": 3
   },
   "file_extension": ".py",
   "mimetype": "text/x-python",
   "name": "python",
   "nbconvert_exporter": "python",
   "pygments_lexer": "ipython3",
   "version": "3.7.1"
  }
 },
 "nbformat": 4,
 "nbformat_minor": 2
}
